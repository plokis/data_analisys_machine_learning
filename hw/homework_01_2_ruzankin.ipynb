{
 "cells": [
  {
   "cell_type": "markdown",
   "id": "5dac7720-2a71-4f51-9a16-3f6e9d535374",
   "metadata": {},
   "source": [
    "### Домашняя работа №1.2 (проверка статистистических гипотез)"
   ]
  },
  {
   "cell_type": "markdown",
   "id": "a5e8fb61-c2a6-4e82-9786-c7cb7fd77242",
   "metadata": {},
   "source": [
    "D Данной работе используется ыборка, собранная в ходе проведения A/B тестирования в мобильной игре Cookie Cats. \n",
    "\n",
    "В данной игре устанавливается временное ограничение на число уровней, которые игрок может пройти подряд. Первое такое ограничение находится на 30 уровне, то есть, после прохождения первых 30 уровней игры, игроку необходимо подождать некоторое время или заплатить деньги, чтобы продолжить играть. В тестировании первое ограничение было смещено на 40 уровень для некоторых игроков. \n",
    "\n",
    "Выборка содержит данные для 90189 игроков. Для каждого игрока указана версия игры (version) принимающая значения gate_30 и gate_40 соответственно для разных уровней ограничений. Также присутствует колонка sum_gamerounds содержащая общее число игровых раундов для игрока в первые 7 дней после установки. Таким образом, необходимо понять, повлияло ли смещение первого ограничения на заинтересованность игрой. Заинтересованность будем измерять по параметру sum_gamerounds, то есть числу игровых раундов в первые 7 дней. Данную задачу можно свести к проверке гипотезы об однородности двух выборок, где первая выборка содержит число игровых раундов для каждого игрока в стандартной версии игры с ограничением на 30 уровне, а вторая выборка — число игровых раундов для игроков в версии с ограничением на 40 уровне."
   ]
  },
  {
   "cell_type": "markdown",
   "id": "f1545b43-da3c-4fb0-8806-f9a2a41677af",
   "metadata": {},
   "source": [
    "### Условия\n",
    "\n",
    "Можно использовать pandas, numpy, matplotlib/seaborn, и scipy."
   ]
  },
  {
   "cell_type": "markdown",
   "id": "15ae3989-5578-42a7-bae6-979d9d9b48c7",
   "metadata": {},
   "source": [
    "### Задачи\n",
    "\n",
    "1. Проанализировать данные - вывести размеры двух групп, их средние число сыгранных раундов и тд. - 3 балла\n",
    "2. Визуализировать данные - вывести гистограммы и box-plot, проанализировать выбросы - 3 балла\n",
    "3. Оценить стат. значимость различия в выборках с помощью минимум 2 критериев на выбор - 4 балла"
   ]
  },
  {
   "cell_type": "code",
   "execution_count": 168,
   "id": "34473542-e315-4579-9a5b-34c47a767303",
   "metadata": {},
   "outputs": [],
   "source": [
    "import pandas as pd\n",
    "import numpy as np\n",
    "import seaborn as sns\n",
    "from scipy import stats"
   ]
  },
  {
   "cell_type": "code",
   "execution_count": 169,
   "id": "9f0856f7-4011-42ad-b030-947045833214",
   "metadata": {},
   "outputs": [
    {
     "data": {
      "text/html": [
       "<div>\n",
       "<style scoped>\n",
       "    .dataframe tbody tr th:only-of-type {\n",
       "        vertical-align: middle;\n",
       "    }\n",
       "\n",
       "    .dataframe tbody tr th {\n",
       "        vertical-align: top;\n",
       "    }\n",
       "\n",
       "    .dataframe thead th {\n",
       "        text-align: right;\n",
       "    }\n",
       "</style>\n",
       "<table border=\"1\" class=\"dataframe\">\n",
       "  <thead>\n",
       "    <tr style=\"text-align: right;\">\n",
       "      <th></th>\n",
       "      <th>userid</th>\n",
       "      <th>version</th>\n",
       "      <th>sum_gamerounds</th>\n",
       "      <th>retention_1</th>\n",
       "      <th>retention_7</th>\n",
       "    </tr>\n",
       "  </thead>\n",
       "  <tbody>\n",
       "    <tr>\n",
       "      <th>0</th>\n",
       "      <td>116</td>\n",
       "      <td>gate_30</td>\n",
       "      <td>3</td>\n",
       "      <td>False</td>\n",
       "      <td>False</td>\n",
       "    </tr>\n",
       "    <tr>\n",
       "      <th>1</th>\n",
       "      <td>337</td>\n",
       "      <td>gate_30</td>\n",
       "      <td>38</td>\n",
       "      <td>True</td>\n",
       "      <td>False</td>\n",
       "    </tr>\n",
       "    <tr>\n",
       "      <th>2</th>\n",
       "      <td>377</td>\n",
       "      <td>gate_40</td>\n",
       "      <td>165</td>\n",
       "      <td>True</td>\n",
       "      <td>False</td>\n",
       "    </tr>\n",
       "    <tr>\n",
       "      <th>3</th>\n",
       "      <td>483</td>\n",
       "      <td>gate_40</td>\n",
       "      <td>1</td>\n",
       "      <td>False</td>\n",
       "      <td>False</td>\n",
       "    </tr>\n",
       "    <tr>\n",
       "      <th>4</th>\n",
       "      <td>488</td>\n",
       "      <td>gate_40</td>\n",
       "      <td>179</td>\n",
       "      <td>True</td>\n",
       "      <td>True</td>\n",
       "    </tr>\n",
       "    <tr>\n",
       "      <th>...</th>\n",
       "      <td>...</td>\n",
       "      <td>...</td>\n",
       "      <td>...</td>\n",
       "      <td>...</td>\n",
       "      <td>...</td>\n",
       "    </tr>\n",
       "    <tr>\n",
       "      <th>90184</th>\n",
       "      <td>9999441</td>\n",
       "      <td>gate_40</td>\n",
       "      <td>97</td>\n",
       "      <td>True</td>\n",
       "      <td>False</td>\n",
       "    </tr>\n",
       "    <tr>\n",
       "      <th>90185</th>\n",
       "      <td>9999479</td>\n",
       "      <td>gate_40</td>\n",
       "      <td>30</td>\n",
       "      <td>False</td>\n",
       "      <td>False</td>\n",
       "    </tr>\n",
       "    <tr>\n",
       "      <th>90186</th>\n",
       "      <td>9999710</td>\n",
       "      <td>gate_30</td>\n",
       "      <td>28</td>\n",
       "      <td>True</td>\n",
       "      <td>False</td>\n",
       "    </tr>\n",
       "    <tr>\n",
       "      <th>90187</th>\n",
       "      <td>9999768</td>\n",
       "      <td>gate_40</td>\n",
       "      <td>51</td>\n",
       "      <td>True</td>\n",
       "      <td>False</td>\n",
       "    </tr>\n",
       "    <tr>\n",
       "      <th>90188</th>\n",
       "      <td>9999861</td>\n",
       "      <td>gate_40</td>\n",
       "      <td>16</td>\n",
       "      <td>False</td>\n",
       "      <td>False</td>\n",
       "    </tr>\n",
       "  </tbody>\n",
       "</table>\n",
       "<p>90189 rows × 5 columns</p>\n",
       "</div>"
      ],
      "text/plain": [
       "        userid  version  sum_gamerounds  retention_1  retention_7\n",
       "0          116  gate_30               3        False        False\n",
       "1          337  gate_30              38         True        False\n",
       "2          377  gate_40             165         True        False\n",
       "3          483  gate_40               1        False        False\n",
       "4          488  gate_40             179         True         True\n",
       "...        ...      ...             ...          ...          ...\n",
       "90184  9999441  gate_40              97         True        False\n",
       "90185  9999479  gate_40              30        False        False\n",
       "90186  9999710  gate_30              28         True        False\n",
       "90187  9999768  gate_40              51         True        False\n",
       "90188  9999861  gate_40              16        False        False\n",
       "\n",
       "[90189 rows x 5 columns]"
      ]
     },
     "execution_count": 169,
     "metadata": {},
     "output_type": "execute_result"
    }
   ],
   "source": [
    "cookie_cats = pd.read_csv('cookie_cats.csv')\n",
    "cookie_cats"
   ]
  },
  {
   "cell_type": "code",
   "execution_count": 170,
   "id": "1a12cbc2-6b24-4254-8fdb-f566a2955553",
   "metadata": {},
   "outputs": [
    {
     "data": {
      "text/plain": [
       "count    44700.000000\n",
       "mean        52.456264\n",
       "std        256.716423\n",
       "min          0.000000\n",
       "25%          5.000000\n",
       "50%         17.000000\n",
       "75%         50.000000\n",
       "max      49854.000000\n",
       "Name: sum_gamerounds, dtype: float64"
      ]
     },
     "execution_count": 170,
     "metadata": {},
     "output_type": "execute_result"
    }
   ],
   "source": [
    "gate_30 = cookie_cats['sum_gamerounds'][cookie_cats['version'] == 'gate_30']\n",
    "cookie_cats['sum_gamerounds'][cookie_cats['version'] == 'gate_30'].describe()"
   ]
  },
  {
   "cell_type": "code",
   "execution_count": 171,
   "id": "3f6039f9-8a73-4b78-885d-f751d5b1d779",
   "metadata": {},
   "outputs": [
    {
     "data": {
      "text/plain": [
       "count    45489.000000\n",
       "mean        51.298776\n",
       "std        103.294416\n",
       "min          0.000000\n",
       "25%          5.000000\n",
       "50%         16.000000\n",
       "75%         52.000000\n",
       "max       2640.000000\n",
       "Name: sum_gamerounds, dtype: float64"
      ]
     },
     "execution_count": 171,
     "metadata": {},
     "output_type": "execute_result"
    }
   ],
   "source": [
    "gate_40 = cookie_cats['sum_gamerounds'][cookie_cats['version'] == 'gate_40']\n",
    "cookie_cats['sum_gamerounds'][cookie_cats['version'] == 'gate_40'].describe()"
   ]
  },
  {
   "cell_type": "markdown",
   "id": "3bdc4859-8221-450b-b2a3-6f9a0bda8533",
   "metadata": {},
   "source": [
    "Как можно видеть максимум по выборке в данных с первым ограничением почти в 20 раз больше, чем во втором. Из-за этого можно пронаблюдать значительную разницу в стандартном отклонении. Следовательно от этого максимума можно избавиться."
   ]
  },
  {
   "cell_type": "code",
   "execution_count": 377,
   "id": "a56cd05b-1f35-42f8-8ab7-73dc01aff1c6",
   "metadata": {},
   "outputs": [
    {
     "data": {
      "text/plain": [
       "count    44699.000000\n",
       "mean        51.342111\n",
       "std        102.057598\n",
       "min          0.000000\n",
       "25%          5.000000\n",
       "50%         17.000000\n",
       "75%         50.000000\n",
       "max       2961.000000\n",
       "Name: sum_gamerounds, dtype: float64"
      ]
     },
     "execution_count": 377,
     "metadata": {},
     "output_type": "execute_result"
    }
   ],
   "source": [
    "gate_30_dropmax = gate_30.drop(gate_30.index[gate_30 == gate_30.max()], axis=0)\n",
    "gate_30_dropmax.describe()"
   ]
  },
  {
   "cell_type": "code",
   "execution_count": 379,
   "id": "d5ba58ef-6c32-4ef4-af88-57d20be3a553",
   "metadata": {},
   "outputs": [
    {
     "data": {
      "text/plain": [
       "<Axes: xlabel='sum_gamerounds', ylabel='Count'>"
      ]
     },
     "execution_count": 379,
     "metadata": {},
     "output_type": "execute_result"
    },
    {
     "data": {
      "image/png": "[encoded data removed]",
      "text/plain": [
       "<Figure size 640x480 with 1 Axes>"
      ]
     },
     "metadata": {},
     "output_type": "display_data"
    }
   ],
   "source": [
    "sns.histplot(gate_30, bins=100)"
   ]
  },
  {
   "cell_type": "code",
   "execution_count": 381,
   "id": "f9232802-3aab-4763-9594-ae8305291b7e",
   "metadata": {},
   "outputs": [
    {
     "data": {
      "text/plain": [
       "<Axes: xlabel='sum_gamerounds', ylabel='Count'>"
      ]
     },
     "execution_count": 381,
     "metadata": {},
     "output_type": "execute_result"
    },
    {
     "data": {
      "image/png": "[encoded data removed]",
      "text/plain": [
       "<Figure size 640x480 with 1 Axes>"
      ]
     },
     "metadata": {},
     "output_type": "display_data"
    }
   ],
   "source": [
    "sns.histplot(gate_30_dropmax, bins=100)"
   ]
  },
  {
   "cell_type": "code",
   "execution_count": 383,
   "id": "cda9dc01-8135-4e09-856e-40bd8e4c18e0",
   "metadata": {},
   "outputs": [
    {
     "data": {
      "text/plain": [
       "<Axes: xlabel='sum_gamerounds', ylabel='Count'>"
      ]
     },
     "execution_count": 383,
     "metadata": {},
     "output_type": "execute_result"
    },
    {
     "data": {
      "image/png": "[encoded data removed]",
      "text/plain": [
       "<Figure size 640x480 with 1 Axes>"
      ]
     },
     "metadata": {},
     "output_type": "display_data"
    }
   ],
   "source": [
    "sns.histplot(gate_40, bins=100)"
   ]
  },
  {
   "cell_type": "markdown",
   "id": "959b05f6-698c-43bf-bb8e-25aa51478137",
   "metadata": {},
   "source": [
    "Распределения на вид достаточно схожи."
   ]
  },
  {
   "cell_type": "code",
   "execution_count": 386,
   "id": "0e02bc1e-a57c-4c4e-9a6f-84065c52bde5",
   "metadata": {},
   "outputs": [
    {
     "data": {
      "text/plain": [
       "<Axes: ylabel='sum_gamerounds'>"
      ]
     },
     "execution_count": 386,
     "metadata": {},
     "output_type": "execute_result"
    },
    {
     "data": {
      "image/png": "[encoded data removed]",
      "text/plain": [
       "<Figure size 640x480 with 1 Axes>"
      ]
     },
     "metadata": {},
     "output_type": "display_data"
    }
   ],
   "source": [
    "sns.boxplot(gate_30)"
   ]
  },
  {
   "cell_type": "code",
   "execution_count": 388,
   "id": "671494ea-0c00-46b3-b27e-f68bd1a4ee54",
   "metadata": {},
   "outputs": [
    {
     "data": {
      "text/plain": [
       "<Axes: ylabel='sum_gamerounds'>"
      ]
     },
     "execution_count": 388,
     "metadata": {},
     "output_type": "execute_result"
    },
    {
     "data": {
      "image/png": "[encoded data removed]",
      "text/plain": [
       "<Figure size 640x480 with 1 Axes>"
      ]
     },
     "metadata": {},
     "output_type": "display_data"
    }
   ],
   "source": [
    "sns.boxplot(gate_30_dropmax)"
   ]
  },
  {
   "cell_type": "code",
   "execution_count": 390,
   "id": "a8356ff6-ad98-41e2-aa91-5026598d33b2",
   "metadata": {},
   "outputs": [
    {
     "data": {
      "text/plain": [
       "<Axes: ylabel='sum_gamerounds'>"
      ]
     },
     "execution_count": 390,
     "metadata": {},
     "output_type": "execute_result"
    },
    {
     "data": {
      "image/png": "[encoded data removed]",
      "text/plain": [
       "<Figure size 640x480 with 1 Axes>"
      ]
     },
     "metadata": {},
     "output_type": "display_data"
    }
   ],
   "source": [
    "sns.boxplot(gate_40)"
   ]
  },
  {
   "cell_type": "markdown",
   "id": "aa5a5262-9f0a-411c-b06a-ad65881b8599",
   "metadata": {},
   "source": [
    "В основном значения расположены у нуля, что для мобильной игры неудивительно."
   ]
  },
  {
   "cell_type": "markdown",
   "id": "d31fc060-87f3-48ef-b126-7dac83ac3c7e",
   "metadata": {},
   "source": [
    "После удаления максимума в данных с ограничением в 30 уровней стало лучше, но как можно посмотреть на боксплот выбросы все ещё существенно вляют на визуализацию."
   ]
  },
  {
   "cell_type": "code",
   "execution_count": 393,
   "id": "47be90fb-b03f-4c6c-b0f5-6ed2ce0a1640",
   "metadata": {},
   "outputs": [
    {
     "data": {
      "text/plain": [
       "KstestResult(statistic=0.010270735856046653, pvalue=0.01707004050286604, statistic_location=22, statistic_sign=-1)"
      ]
     },
     "execution_count": 393,
     "metadata": {},
     "output_type": "execute_result"
    }
   ],
   "source": [
    "stats.kstest(gate_30, gate_40)"
   ]
  },
  {
   "cell_type": "code",
   "execution_count": 395,
   "id": "757bd8c6-4fad-4286-aea4-e5b0019a51cd",
   "metadata": {},
   "outputs": [
    {
     "data": {
      "text/plain": [
       "KstestResult(statistic=0.010258010418840668, pvalue=0.01727609923280408, statistic_location=22, statistic_sign=-1)"
      ]
     },
     "execution_count": 395,
     "metadata": {},
     "output_type": "execute_result"
    }
   ],
   "source": [
    "stats.kstest(gate_30_dropmax, gate_40)"
   ]
  },
  {
   "cell_type": "code",
   "execution_count": 397,
   "id": "ddb7fb49-7b4e-41c2-8398-645f48265875",
   "metadata": {},
   "outputs": [
    {
     "data": {
      "text/plain": [
       "MannwhitneyuResult(statistic=1024331250.5, pvalue=0.05020880772044255)"
      ]
     },
     "execution_count": 397,
     "metadata": {},
     "output_type": "execute_result"
    }
   ],
   "source": [
    "stats.mannwhitneyu(gate_30, gate_40)"
   ]
  },
  {
   "cell_type": "code",
   "execution_count": 399,
   "id": "a8523e77-df4a-414a-9ad6-9ef36f67d7cf",
   "metadata": {},
   "outputs": [
    {
     "data": {
      "text/plain": [
       "MannwhitneyuResult(statistic=1024285761.5, pvalue=0.05089155279145376)"
      ]
     },
     "execution_count": 399,
     "metadata": {},
     "output_type": "execute_result"
    }
   ],
   "source": [
    "stats.mannwhitneyu(gate_30_dropmax, gate_40)"
   ]
  },
  {
   "cell_type": "markdown",
   "id": "e506e683-8cd2-4359-8a1d-c7acb87ea11a",
   "metadata": {},
   "source": [
    "Критерий Колмогорова-Смирнова показывает, что есть различия в выборках. Критерий Манна-Уитни практически находится на эквилибриуме, но все-таки не замечает разницы в выборках. Как можно заметить удаление максимума не сильно влияет на p значение."
   ]
  }
 ],
 "metadata": {
  "kernelspec": {
   "display_name": "Python 3 (ipykernel)",
   "language": "python",
   "name": "python3"
  },
  "language_info": {
   "codemirror_mode": {
    "name": "ipython",
    "version": 3
   },
   "file_extension": ".py",
   "mimetype": "text/x-python",
   "name": "python",
   "nbconvert_exporter": "python",
   "pygments_lexer": "ipython3",
   "version": "3.12.4"
  },
  "widgets": {
   "application/vnd.jupyter.widget-state+json": {
    "state": {},
    "version_major": 2,
    "version_minor": 0
   }
  }
 },
 "nbformat": 4,
 "nbformat_minor": 5
}
